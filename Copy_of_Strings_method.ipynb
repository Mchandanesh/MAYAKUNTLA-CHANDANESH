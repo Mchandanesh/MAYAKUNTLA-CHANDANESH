{
  "nbformat": 4,
  "nbformat_minor": 0,
  "metadata": {
    "colab": {
      "provenance": [],
      "authorship_tag": "ABX9TyOl2tF2m4RI3gtvQysBXKgk",
      "include_colab_link": true
    },
    "kernelspec": {
      "name": "python3",
      "display_name": "Python 3"
    },
    "language_info": {
      "name": "python"
    }
  },
  "cells": [
    {
      "cell_type": "markdown",
      "metadata": {
        "id": "view-in-github",
        "colab_type": "text"
      },
      "source": [
        "<a href=\"https://colab.research.google.com/github/chandanesh5/MAYAKUNTLA-CHANDANESH/blob/main/Copy_of_Strings_method.ipynb\" target=\"_parent\"><img src=\"https://colab.research.google.com/assets/colab-badge.svg\" alt=\"Open In Colab\"/></a>"
      ]
    },
    {
      "cell_type": "markdown",
      "source": [
        "String method"
      ],
      "metadata": {
        "id": "hP_5MRhprJaM"
      }
    },
    {
      "cell_type": "code",
      "source": [
        "name =input(\"enter your name :\")\n",
        "if name== \"Anantha prasad\":\n",
        "  print(f\"{name} :It's my bro name\")\n",
        "if name==\"Chandanesh\":\n",
        "    print(f\"{name} :It's my name\")\n",
        "else :\n",
        "    print(f\"{name} :It's my friend name\")\n"
      ],
      "metadata": {
        "colab": {
          "base_uri": "https://localhost:8080/"
        },
        "id": "b_uIYgd7rIg0",
        "outputId": "3751639a-4f35-406c-8216-d2b246f6c9a2"
      },
      "execution_count": null,
      "outputs": [
        {
          "output_type": "stream",
          "name": "stdout",
          "text": [
            "enter your name :Anantha prasad\n",
            "Anantha prasad :It's my bro name\n",
            "Anantha prasad :It's my friend name\n"
          ]
        }
      ]
    },
    {
      "cell_type": "code",
      "source": [
        "name =input(\"enter your name :\")\n",
        "if name== \"Anantha prasad\":\n",
        "  print(f\"{name} :It's my bro name\")\n",
        "  if name==\"Chandanesh\":\n",
        "    print(f\"{name} :It's my name\")\n",
        "else :\n",
        "    print(f\"{name} :It's my friend name\")"
      ],
      "metadata": {
        "colab": {
          "base_uri": "https://localhost:8080/"
        },
        "id": "pqWa5LcjrIUJ",
        "outputId": "937b12b1-d83d-4c63-ac2e-f7c89672cf80"
      },
      "execution_count": null,
      "outputs": [
        {
          "output_type": "stream",
          "name": "stdout",
          "text": [
            "enter your name :Chandanesh\n",
            "Chandanesh :It's my friend name\n"
          ]
        }
      ]
    },
    {
      "cell_type": "code",
      "source": [
        "name =input(\"enter your name :\")\n",
        "if name== \"Anantha prasad\":\n",
        "  print(f\"{name} :It's my bro name\")\n",
        "  if name==\"chandanesh\":\n",
        "    print(f\"{name} :It's my name\")\n",
        "else :\n",
        "    print(f\"{name} :It's my friend name\")"
      ],
      "metadata": {
        "colab": {
          "base_uri": "https://localhost:8080/"
        },
        "id": "El54uRa2rSgU",
        "outputId": "d39ae3d4-4729-46e0-9393-91ddd8a8c226"
      },
      "execution_count": null,
      "outputs": [
        {
          "output_type": "stream",
          "name": "stdout",
          "text": [
            "enter your name :Vijay\n",
            "Vijay :It's my friend name\n"
          ]
        }
      ]
    },
    {
      "cell_type": "markdown",
      "source": [
        "**String Indexing**\n",
        "\n"
      ],
      "metadata": {
        "id": "Uut4j6Jnd30N"
      }
    },
    {
      "cell_type": "code",
      "source": [
        "place=\"Dharmavaram\"\n",
        "place[2]\n"
      ],
      "metadata": {
        "colab": {
          "base_uri": "https://localhost:8080/",
          "height": 35
        },
        "id": "0plPulNxdtDX",
        "outputId": "55fea8de-4155-4317-994e-0d42a6d54646"
      },
      "execution_count": null,
      "outputs": [
        {
          "output_type": "execute_result",
          "data": {
            "text/plain": [
              "'a'"
            ],
            "application/vnd.google.colaboratory.intrinsic+json": {
              "type": "string"
            }
          },
          "metadata": {},
          "execution_count": 5
        }
      ]
    },
    {
      "cell_type": "code",
      "source": [
        "place=\"Dharmavaram\"\n",
        "place[-5]"
      ],
      "metadata": {
        "colab": {
          "base_uri": "https://localhost:8080/",
          "height": 35
        },
        "id": "3wfF6DTJszQm",
        "outputId": "3ff15c6f-0cf0-4a9d-9e29-5c9428ac6e44"
      },
      "execution_count": null,
      "outputs": [
        {
          "output_type": "execute_result",
          "data": {
            "text/plain": [
              "'v'"
            ],
            "application/vnd.google.colaboratory.intrinsic+json": {
              "type": "string"
            }
          },
          "metadata": {},
          "execution_count": 62
        }
      ]
    },
    {
      "cell_type": "code",
      "source": [
        "name= \"anantha Prasad\"\n",
        "print(f\"{name}\")\n",
        "print(f\" Indexing :8= {name[8]}\")\n"
      ],
      "metadata": {
        "colab": {
          "base_uri": "https://localhost:8080/"
        },
        "id": "U1U6GLXCeUBY",
        "outputId": "486271b2-5ad0-41bb-808b-9b5c118147be"
      },
      "execution_count": null,
      "outputs": [
        {
          "output_type": "stream",
          "name": "stdout",
          "text": [
            "anantha Prasad\n",
            " Indexing :8= P\n"
          ]
        }
      ]
    },
    {
      "cell_type": "markdown",
      "source": [
        "String Length"
      ],
      "metadata": {
        "id": "SvmXxPxfkG25"
      }
    },
    {
      "cell_type": "code",
      "source": [
        "host2=\"neehanaz Jntua\"\n",
        "len(host2)"
      ],
      "metadata": {
        "colab": {
          "base_uri": "https://localhost:8080/"
        },
        "id": "OZGVB-DQj7f9",
        "outputId": "1c26c4c8-0d8a-4297-8250-5b8f74089e06"
      },
      "execution_count": null,
      "outputs": [
        {
          "output_type": "execute_result",
          "data": {
            "text/plain": [
              "14"
            ]
          },
          "metadata": {},
          "execution_count": 27
        }
      ]
    },
    {
      "cell_type": "code",
      "source": [
        "host=\"bavaji Jntua\"\n",
        "len(host)"
      ],
      "metadata": {
        "colab": {
          "base_uri": "https://localhost:8080/"
        },
        "id": "-zEAglfxkFSc",
        "outputId": "8a0a5c75-1ce0-4527-fb2f-73761b53e6fd"
      },
      "execution_count": null,
      "outputs": [
        {
          "output_type": "execute_result",
          "data": {
            "text/plain": [
              "12"
            ]
          },
          "metadata": {},
          "execution_count": 60
        }
      ]
    },
    {
      "cell_type": "code",
      "source": [
        "host=\"bavaji Jntua\"\n",
        "host2=\"neehanaz Jntua\"\n",
        "if len(host[4:10])==len(host2[5:11]): \n",
        "  print(\"Its both  length are same \")\n",
        "else:\n",
        "  print(\"Its both length are diiferent\")"
      ],
      "metadata": {
        "colab": {
          "base_uri": "https://localhost:8080/"
        },
        "id": "vslFLRaZiide",
        "outputId": "82570557-f2a9-4e2f-fd59-21c5eb55ffb4"
      },
      "execution_count": null,
      "outputs": [
        {
          "output_type": "stream",
          "name": "stdout",
          "text": [
            "Its both  length are same \n"
          ]
        }
      ]
    },
    {
      "cell_type": "markdown",
      "source": [
        "**Strings mutability**"
      ],
      "metadata": {
        "id": "3TDzA-eAkWFS"
      }
    },
    {
      "cell_type": "code",
      "source": [
        "name=\"Pani\"\n",
        "Name=name.replace(\"P\",\"M\")\n",
        "print(Name)\n"
      ],
      "metadata": {
        "colab": {
          "base_uri": "https://localhost:8080/"
        },
        "id": "xMSe6sjEkWvX",
        "outputId": "3821142c-f2b3-4a49-e4e5-1769ad52322c"
      },
      "execution_count": null,
      "outputs": [
        {
          "output_type": "stream",
          "name": "stdout",
          "text": [
            "Mani\n"
          ]
        }
      ]
    },
    {
      "cell_type": "code",
      "source": [
        "Name=name.replace(\"P\",\"M\")\n",
        "print(f\"Nick_Name is :{Name}\")\n",
        "print(f\"Full_name is :{Name.replace('Mani','Manikanta')}\")"
      ],
      "metadata": {
        "colab": {
          "base_uri": "https://localhost:8080/"
        },
        "id": "20EEblFglMT0",
        "outputId": "c4469489-7524-4dcb-8701-06b31aa48f9f"
      },
      "execution_count": null,
      "outputs": [
        {
          "output_type": "stream",
          "name": "stdout",
          "text": [
            "Nick_Name is :Mani\n",
            "Full_name is :Manikanta\n"
          ]
        }
      ]
    },
    {
      "cell_type": "markdown",
      "source": [
        "**String slicing**"
      ],
      "metadata": {
        "id": "sUvNhYHTn1Fy"
      }
    },
    {
      "cell_type": "code",
      "source": [
        "name=\"Anantha prasad\"\n",
        "name[::2]"
      ],
      "metadata": {
        "colab": {
          "base_uri": "https://localhost:8080/",
          "height": 35
        },
        "id": "1HnqWr4PoBiI",
        "outputId": "1de05700-7081-4efb-e222-ada3594ce703"
      },
      "execution_count": null,
      "outputs": [
        {
          "output_type": "execute_result",
          "data": {
            "text/plain": [
              "'Aatapaa'"
            ],
            "application/vnd.google.colaboratory.intrinsic+json": {
              "type": "string"
            }
          },
          "metadata": {},
          "execution_count": 47
        }
      ]
    },
    {
      "cell_type": "code",
      "source": [
        "name=\"Anantha prasad\"\n",
        "name[::-3]"
      ],
      "metadata": {
        "colab": {
          "base_uri": "https://localhost:8080/",
          "height": 35
        },
        "id": "g4XHVdnsoYcF",
        "outputId": "f606f212-9dad-41cc-b4fc-4bb0455ff691"
      },
      "execution_count": null,
      "outputs": [
        {
          "output_type": "execute_result",
          "data": {
            "text/plain": [
              "'da tn'"
            ],
            "application/vnd.google.colaboratory.intrinsic+json": {
              "type": "string"
            }
          },
          "metadata": {},
          "execution_count": 48
        }
      ]
    },
    {
      "cell_type": "code",
      "source": [
        "name=\"Anantha prasad\"\n",
        "name[4:10:4]"
      ],
      "metadata": {
        "colab": {
          "base_uri": "https://localhost:8080/",
          "height": 35
        },
        "id": "Azl0sA0Eoi4c",
        "outputId": "6d366651-e986-4b8d-d573-40e1076374aa"
      },
      "execution_count": null,
      "outputs": [
        {
          "output_type": "execute_result",
          "data": {
            "text/plain": [
              "'tp'"
            ],
            "application/vnd.google.colaboratory.intrinsic+json": {
              "type": "string"
            }
          },
          "metadata": {},
          "execution_count": 49
        }
      ]
    },
    {
      "cell_type": "code",
      "source": [
        "c1=\"MALAYALAM\"\n",
        "c2=c1[::-1]\n",
        "\n",
        "if c2==c1:\n",
        "  print(\"It is Palindromic Word's\")\n",
        "else:\n",
        "  print(\"It not a Palindromic Word's\")"
      ],
      "metadata": {
        "colab": {
          "base_uri": "https://localhost:8080/"
        },
        "id": "-Ajw-ou4or02",
        "outputId": "81122bba-4f60-4fec-c729-8ad2d5ee687d"
      },
      "execution_count": null,
      "outputs": [
        {
          "output_type": "stream",
          "name": "stdout",
          "text": [
            "It is Palindromic Word's\n"
          ]
        }
      ]
    },
    {
      "cell_type": "markdown",
      "source": [
        "#Other string methods\n",
        "s.no|String method\n",
        "-|-|\n",
        "1| upper case method\n",
        "2| lower case method\n",
        "3| title case method\n",
        "4| capitalize case method\n",
        "5| swapcase  method\n"
      ],
      "metadata": {
        "id": "4ialHC-ntmAl"
      }
    },
    {
      "cell_type": "code",
      "execution_count": null,
      "metadata": {
        "colab": {
          "base_uri": "https://localhost:8080/"
        },
        "id": "btJoPLhtclFF",
        "outputId": "276f9229-1ccf-450a-e901-537c036b2ed1"
      },
      "outputs": [
        {
          "output_type": "stream",
          "name": "stdout",
          "text": [
            "name in upper case: CHANDANESH MAYAKUNTLA\n",
            "name in lower case: chandanesh mayakuntla\n",
            "name in title case: Chandanesh Mayakuntla\n",
            "name in capitalize case: Chandanesh mayakuntla\n",
            "name in swap case: ChAnDANeSH mAyaKuNtlA\n"
          ]
        }
      ],
      "source": [
        "name=\"cHaNdanEsh MaYAkUnTLa\"\n",
        "print(f\"name in upper case: {name.upper()}\") #upper case converting\n",
        "print(f\"name in lower case: {name.lower()}\") #Lower case converting\n",
        "print(f\"name in title case: {name.title()}\") #Title case converting\n",
        "print(f\"name in capitalize case: {name.capitalize()}\") #Capitalize case converting\n",
        "print(f\"name in swap case: {name.swapcase()}\") #Swap case converting"
      ]
    },
    {
      "cell_type": "code",
      "source": [
        "Brand=\"AmErIcAn ExPrEsS\"\n",
        "print(f\"Brand in upper case: {Brand.upper()}\") #upper case converting\n",
        "print(f\"Brand in lower case: {Brand.lower()}\") #Lower case converting\n",
        "print(f\"Brand in title case: {Brand.title()}\") #Title case converting\n",
        "print(f\"Brand in capitalize case: {Brand.capitalize()}\") #Capitalize case converting\n",
        "print(f\"Brand in swap case: {Brand.swapcase()}\") #Swap case converting"
      ],
      "metadata": {
        "colab": {
          "base_uri": "https://localhost:8080/"
        },
        "id": "GS2ND7Equ302",
        "outputId": "421f41f9-8064-426b-a666-6f02b1b020f2"
      },
      "execution_count": null,
      "outputs": [
        {
          "output_type": "stream",
          "name": "stdout",
          "text": [
            "Brand in upper case: AMERICAN EXPRESS\n",
            "Brand in lower case: american express\n",
            "Brand in title case: American Express\n",
            "Brand in capitalize case: American express\n",
            "Brand in swap case: aMeRiCaN eXpReSs\n"
          ]
        }
      ]
    }
  ]
}
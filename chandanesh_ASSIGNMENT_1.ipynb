{
  "nbformat": 4,
  "nbformat_minor": 0,
  "metadata": {
    "colab": {
      "provenance": [],
      "authorship_tag": "ABX9TyOMjrQwwlujKoEYGZX5ZSpO",
      "include_colab_link": true
    },
    "kernelspec": {
      "name": "python3",
      "display_name": "Python 3"
    },
    "language_info": {
      "name": "python"
    }
  },
  "cells": [
    {
      "cell_type": "markdown",
      "metadata": {
        "id": "view-in-github",
        "colab_type": "text"
      },
      "source": [
        "<a href=\"https://colab.research.google.com/github/chandanesh5/MAYAKUNTLA-CHANDANESH/blob/main/chandanesh_ASSIGNMENT_1.ipynb\" target=\"_parent\"><img src=\"https://colab.research.google.com/assets/colab-badge.svg\" alt=\"Open In Colab\"/></a>"
      ]
    },
    {
      "cell_type": "markdown",
      "source": [
        "# **1. Find out all the types of error that we have encountered in our lecture and why? Also include the examples.**"
      ],
      "metadata": {
        "id": "whUx2yJMpt9U"
      }
    },
    {
      "cell_type": "markdown",
      "source": [
        "*i. For case sensetivity:*"
      ],
      "metadata": {
        "id": "YwxN2K7eerWB"
      }
    },
    {
      "cell_type": "code",
      "source": [
        "TEN = 10\n",
        "ten = 20\n",
        "print(Ten)"
      ],
      "metadata": {
        "colab": {
          "base_uri": "https://localhost:8080/",
          "height": 200
        },
        "id": "T9H4b0d9fq_e",
        "outputId": "916bcab4-5876-4861-e15e-69a7ab0a1713"
      },
      "execution_count": null,
      "outputs": [
        {
          "output_type": "error",
          "ename": "NameError",
          "evalue": "ignored",
          "traceback": [
            "\u001b[0;31m---------------------------------------------------------------------------\u001b[0m",
            "\u001b[0;31mNameError\u001b[0m                                 Traceback (most recent call last)",
            "\u001b[0;32m<ipython-input-14-3012334b7ff0>\u001b[0m in \u001b[0;36m<module>\u001b[0;34m\u001b[0m\n\u001b[1;32m      1\u001b[0m \u001b[0mTEN\u001b[0m \u001b[0;34m=\u001b[0m \u001b[0;36m10\u001b[0m\u001b[0;34m\u001b[0m\u001b[0;34m\u001b[0m\u001b[0m\n\u001b[1;32m      2\u001b[0m \u001b[0mten\u001b[0m \u001b[0;34m=\u001b[0m \u001b[0;36m20\u001b[0m\u001b[0;34m\u001b[0m\u001b[0;34m\u001b[0m\u001b[0m\n\u001b[0;32m----> 3\u001b[0;31m \u001b[0mprint\u001b[0m\u001b[0;34m(\u001b[0m\u001b[0mTen\u001b[0m\u001b[0;34m)\u001b[0m\u001b[0;34m\u001b[0m\u001b[0;34m\u001b[0m\u001b[0m\n\u001b[0m",
            "\u001b[0;31mNameError\u001b[0m: name 'Ten' is not defined"
          ]
        }
      ]
    },
    {
      "cell_type": "markdown",
      "source": [
        "*ii. We should not use reserved words as variable names*"
      ],
      "metadata": {
        "id": "INb04RXUf5f9"
      }
    },
    {
      "cell_type": "code",
      "source": [
        "print(\"Hi there\")\n",
        "\n",
        "print = \"Hi there\" # as a variable\n",
        "type(print)\n",
        "\n",
        "print(\"Hi there\")"
      ],
      "metadata": {
        "colab": {
          "base_uri": "https://localhost:8080/",
          "height": 218
        },
        "id": "9dd7ZQobeUOK",
        "outputId": "8930934c-2bf4-4ada-a605-c504a8ce6d3b"
      },
      "execution_count": null,
      "outputs": [
        {
          "output_type": "stream",
          "name": "stdout",
          "text": [
            "Hi there\n"
          ]
        },
        {
          "output_type": "error",
          "ename": "TypeError",
          "evalue": "ignored",
          "traceback": [
            "\u001b[0;31m---------------------------------------------------------------------------\u001b[0m",
            "\u001b[0;31mTypeError\u001b[0m                                 Traceback (most recent call last)",
            "\u001b[0;32m<ipython-input-15-79f5d826ebd6>\u001b[0m in \u001b[0;36m<module>\u001b[0;34m\u001b[0m\n\u001b[1;32m      4\u001b[0m \u001b[0mtype\u001b[0m\u001b[0;34m(\u001b[0m\u001b[0mprint\u001b[0m\u001b[0;34m)\u001b[0m\u001b[0;34m\u001b[0m\u001b[0;34m\u001b[0m\u001b[0m\n\u001b[1;32m      5\u001b[0m \u001b[0;34m\u001b[0m\u001b[0m\n\u001b[0;32m----> 6\u001b[0;31m \u001b[0mprint\u001b[0m\u001b[0;34m(\u001b[0m\u001b[0;34m\"Hi there\"\u001b[0m\u001b[0;34m)\u001b[0m\u001b[0;34m\u001b[0m\u001b[0;34m\u001b[0m\u001b[0m\n\u001b[0m",
            "\u001b[0;31mTypeError\u001b[0m: 'str' object is not callable"
          ]
        }
      ]
    },
    {
      "cell_type": "code",
      "source": [
        "# delete the variable print\n",
        "del print "
      ],
      "metadata": {
        "id": "RhbfFLCTgfP9"
      },
      "execution_count": null,
      "outputs": []
    },
    {
      "cell_type": "markdown",
      "source": [
        "*iii. Whenever we will take user input variable, we should mention the datatype. Because by default it takes as string literal. Thy for next use, the input can create an issue, like through an error or may lead to an unexpected output.*"
      ],
      "metadata": {
        "id": "QLuRHVoWgybH"
      }
    },
    {
      "cell_type": "code",
      "source": [
        "# calcualte the age of the user\n",
        "\n",
        "name = input(\"Name: \") # always gives you string values\n",
        "place = input(\"place: \")\n",
        "year_of_birth = input(\"year_of_birth: \")\n",
        "\n",
        "age = 2022 - year_of_birth\n",
        "\n",
        "print(f\"\"\"\n",
        "My name is: {name}\n",
        "I live at: {place}\n",
        "{name} is of age: {age}\n",
        "\"\"\")"
      ],
      "metadata": {
        "colab": {
          "base_uri": "https://localhost:8080/",
          "height": 287
        },
        "id": "FQBBKWCBh0vj",
        "outputId": "56e04e46-255e-4cfa-ece7-f7da2ad2a6e0"
      },
      "execution_count": null,
      "outputs": [
        {
          "name": "stdout",
          "output_type": "stream",
          "text": [
            "Name: Deb Kumar\n",
            "place: Kolkata\n",
            "year_of_birth: 30/09/1998\n"
          ]
        },
        {
          "output_type": "error",
          "ename": "TypeError",
          "evalue": "ignored",
          "traceback": [
            "\u001b[0;31m---------------------------------------------------------------------------\u001b[0m",
            "\u001b[0;31mTypeError\u001b[0m                                 Traceback (most recent call last)",
            "\u001b[0;32m<ipython-input-17-2eec01983159>\u001b[0m in \u001b[0;36m<module>\u001b[0;34m\u001b[0m\n\u001b[1;32m      5\u001b[0m \u001b[0myear_of_birth\u001b[0m \u001b[0;34m=\u001b[0m \u001b[0minput\u001b[0m\u001b[0;34m(\u001b[0m\u001b[0;34m\"year_of_birth: \"\u001b[0m\u001b[0;34m)\u001b[0m\u001b[0;34m\u001b[0m\u001b[0;34m\u001b[0m\u001b[0m\n\u001b[1;32m      6\u001b[0m \u001b[0;34m\u001b[0m\u001b[0m\n\u001b[0;32m----> 7\u001b[0;31m \u001b[0mage\u001b[0m \u001b[0;34m=\u001b[0m \u001b[0;36m2022\u001b[0m \u001b[0;34m-\u001b[0m \u001b[0myear_of_birth\u001b[0m\u001b[0;34m\u001b[0m\u001b[0;34m\u001b[0m\u001b[0m\n\u001b[0m\u001b[1;32m      8\u001b[0m \u001b[0;34m\u001b[0m\u001b[0m\n\u001b[1;32m      9\u001b[0m print(f\"\"\"\n",
            "\u001b[0;31mTypeError\u001b[0m: unsupported operand type(s) for -: 'int' and 'str'"
          ]
        }
      ]
    },
    {
      "cell_type": "markdown",
      "source": [
        "*iv. If we mentioned the datatype of input variable, then we need to remember, while putting the value, we need to put exact mentioned datatype's value.*"
      ],
      "metadata": {
        "id": "Qc47Mk-0ii2p"
      }
    },
    {
      "cell_type": "code",
      "source": [
        "A = float(input(\"Enter value of A: \"))\n",
        "B = int(input(\"Enter value of B: \")) # 10.2 is float but converting to int\n",
        "\n",
        "print(f\"Sum of A and B is: {A+B}\")"
      ],
      "metadata": {
        "colab": {
          "base_uri": "https://localhost:8080/",
          "height": 252
        },
        "id": "5K-IHhtvjlFR",
        "outputId": "c076325d-815b-4848-cf81-58fa386a80aa"
      },
      "execution_count": null,
      "outputs": [
        {
          "name": "stdout",
          "output_type": "stream",
          "text": [
            "Enter value of A: 10.89\n",
            "Enter value of B: 25.3\n"
          ]
        },
        {
          "output_type": "error",
          "ename": "ValueError",
          "evalue": "ignored",
          "traceback": [
            "\u001b[0;31m---------------------------------------------------------------------------\u001b[0m",
            "\u001b[0;31mValueError\u001b[0m                                Traceback (most recent call last)",
            "\u001b[0;32m<ipython-input-18-476a8e264fdf>\u001b[0m in \u001b[0;36m<module>\u001b[0;34m\u001b[0m\n\u001b[1;32m      1\u001b[0m \u001b[0mA\u001b[0m \u001b[0;34m=\u001b[0m \u001b[0mfloat\u001b[0m\u001b[0;34m(\u001b[0m\u001b[0minput\u001b[0m\u001b[0;34m(\u001b[0m\u001b[0;34m\"Enter value of A: \"\u001b[0m\u001b[0;34m)\u001b[0m\u001b[0;34m)\u001b[0m\u001b[0;34m\u001b[0m\u001b[0;34m\u001b[0m\u001b[0m\n\u001b[0;32m----> 2\u001b[0;31m \u001b[0mB\u001b[0m \u001b[0;34m=\u001b[0m \u001b[0mint\u001b[0m\u001b[0;34m(\u001b[0m\u001b[0minput\u001b[0m\u001b[0;34m(\u001b[0m\u001b[0;34m\"Enter value of B: \"\u001b[0m\u001b[0;34m)\u001b[0m\u001b[0;34m)\u001b[0m \u001b[0;31m# 10.2 is float but converting to int\u001b[0m\u001b[0;34m\u001b[0m\u001b[0;34m\u001b[0m\u001b[0m\n\u001b[0m\u001b[1;32m      3\u001b[0m \u001b[0;34m\u001b[0m\u001b[0m\n\u001b[1;32m      4\u001b[0m \u001b[0mprint\u001b[0m\u001b[0;34m(\u001b[0m\u001b[0;34mf\"Sum of A and B is: {A+B}\"\u001b[0m\u001b[0;34m)\u001b[0m\u001b[0;34m\u001b[0m\u001b[0;34m\u001b[0m\u001b[0m\n",
            "\u001b[0;31mValueError\u001b[0m: invalid literal for int() with base 10: '25.3'"
          ]
        }
      ]
    },
    {
      "cell_type": "markdown",
      "source": [
        "*v. We can't change an empty string to any datatype*"
      ],
      "metadata": {
        "id": "jtE_-Q3DkD7P"
      }
    },
    {
      "cell_type": "code",
      "source": [
        "# empty string to int\n",
        "A = \"\"\n",
        "print(f\"data type before: {type(A)}, value of A: {A}\")\n",
        "A = int(A)\n",
        "print(f\"data type after: {type(A)}, value of A: {A}\")"
      ],
      "metadata": {
        "colab": {
          "base_uri": "https://localhost:8080/",
          "height": 235
        },
        "id": "AJZoOah3kPvE",
        "outputId": "ab653963-05c5-4989-bdc1-ecbf7f65b831"
      },
      "execution_count": null,
      "outputs": [
        {
          "output_type": "stream",
          "name": "stdout",
          "text": [
            "data type before: <class 'str'>, value of A: \n"
          ]
        },
        {
          "output_type": "error",
          "ename": "ValueError",
          "evalue": "ignored",
          "traceback": [
            "\u001b[0;31m---------------------------------------------------------------------------\u001b[0m",
            "\u001b[0;31mValueError\u001b[0m                                Traceback (most recent call last)",
            "\u001b[0;32m<ipython-input-19-a8248b2f88e9>\u001b[0m in \u001b[0;36m<module>\u001b[0;34m\u001b[0m\n\u001b[1;32m      2\u001b[0m \u001b[0mA\u001b[0m \u001b[0;34m=\u001b[0m \u001b[0;34m\"\"\u001b[0m\u001b[0;34m\u001b[0m\u001b[0;34m\u001b[0m\u001b[0m\n\u001b[1;32m      3\u001b[0m \u001b[0mprint\u001b[0m\u001b[0;34m(\u001b[0m\u001b[0;34mf\"data type before: {type(A)}, value of A: {A}\"\u001b[0m\u001b[0;34m)\u001b[0m\u001b[0;34m\u001b[0m\u001b[0;34m\u001b[0m\u001b[0m\n\u001b[0;32m----> 4\u001b[0;31m \u001b[0mA\u001b[0m \u001b[0;34m=\u001b[0m \u001b[0mint\u001b[0m\u001b[0;34m(\u001b[0m\u001b[0mA\u001b[0m\u001b[0;34m)\u001b[0m\u001b[0;34m\u001b[0m\u001b[0;34m\u001b[0m\u001b[0m\n\u001b[0m\u001b[1;32m      5\u001b[0m \u001b[0mprint\u001b[0m\u001b[0;34m(\u001b[0m\u001b[0;34mf\"data type after: {type(A)}, value of A: {A}\"\u001b[0m\u001b[0;34m)\u001b[0m\u001b[0;34m\u001b[0m\u001b[0;34m\u001b[0m\u001b[0m\n",
            "\u001b[0;31mValueError\u001b[0m: invalid literal for int() with base 10: ''"
          ]
        }
      ]
    },
    {
      "cell_type": "markdown",
      "source": [
        "# **2. Take input A and B and print their sum, mul, div, square of the nos.**"
      ],
      "metadata": {
        "id": "xhagdikQpy65"
      }
    },
    {
      "cell_type": "code",
      "source": [
        "# taking the user inputs\n",
        "a = int(input(\"Enter 1st number: \"))\n",
        "b = int(input(\"Enter 2nd number: \"))\n",
        "\n",
        "# mathematical equations\n",
        "sum = a + b\n",
        "mul = a * b\n",
        "div = a / b\n",
        "square = a ** 2\n",
        "\n",
        "print()\n",
        "\n",
        "# printing the results\n",
        "print(f\"The 'sum' of {a} & {b} is: {sum}\")\n",
        "print(f\"The 'mul' of {a} & {b} is: {mul}\")\n",
        "print(f\"The 'div' of {a} & {b} is: {div}\")\n",
        "print(f\"The 'square' of {a} & {b} is: {square}\")"
      ],
      "metadata": {
        "colab": {
          "base_uri": "https://localhost:8080/"
        },
        "id": "yptX2KXHqyxv",
        "outputId": "a3453d07-9507-4830-b15a-58061e1e753b"
      },
      "execution_count": null,
      "outputs": [
        {
          "output_type": "stream",
          "name": "stdout",
          "text": [
            "Enter 1st number: 2001\n",
            "Enter 2nd number: 1998\n",
            "\n",
            "The 'sum' of 2001 & 1998 is: 3999\n",
            "The 'mul' of 2001 & 1998 is: 3997998\n",
            "The 'div' of 2001 & 1998 is: 1.0015015015015014\n",
            "The 'square' of 2001 & 1998 is: 4004001\n"
          ]
        }
      ]
    },
    {
      "cell_type": "markdown",
      "source": [
        "# **3. How many reserve keywords are there in python and why we should not use them as a variable name.**"
      ],
      "metadata": {
        "id": "FJwFdkUrp52W"
      }
    },
    {
      "cell_type": "markdown",
      "source": [
        "* There are only 33 reserve keywords in python.\n",
        "* We shouldn't use those as variable name because if I will use those words as variable, then those might revert in the data type of the variable, and for future use of those variable as keywords, will through an error."
      ],
      "metadata": {
        "id": "hYwbegFVxh9F"
      }
    },
    {
      "cell_type": "markdown",
      "source": [
        "# **4. Create email ids with the user inputs. in the following format - lastname.firstname@gmail.com**"
      ],
      "metadata": {
        "id": "h1lh17Jup_3b"
      }
    },
    {
      "cell_type": "code",
      "source": [
        "# taking the user inputs\n",
        "first_name = input(\"Enter the first name: \")\n",
        "last_name = input(\"Enter the last name: \")\n",
        "\n",
        "# creating the email id\n",
        "print(f\"The user email id is: {last_name}.{first_name}@gmail.com\")"
      ],
      "metadata": {
        "colab": {
          "base_uri": "https://localhost:8080/"
        },
        "id": "RnF9bV_9xk2C",
        "outputId": "38f33553-6e0d-4489-d441-82359d935fae"
      },
      "execution_count": null,
      "outputs": [
        {
          "output_type": "stream",
          "name": "stdout",
          "text": [
            "Enter the first name: riya\n",
            "Enter the last name: dey\n",
            "The user email id is: dey.riya@gmail.com\n"
          ]
        }
      ]
    },
    {
      "cell_type": "markdown",
      "source": [
        "# 5. Try to print the following lines -\n",
        " * **Hi I'm Sunny**\n",
        " * **My address is 22\\3**\n",
        " * **I earn 20$ daily.**  "
      ],
      "metadata": {
        "id": "arBj5wPFqJSd"
      }
    },
    {
      "cell_type": "code",
      "source": [
        "# taking the user inputs\n",
        "statement_1 = \"Hi I'm Sunny\"\n",
        "statement_2 = \"My address is 22\\\\3\"\n",
        "statement_3 = \"I earn 20$ daily.\"\n",
        "\n",
        "# printing the statements\n",
        "print(f\"The 1st statement is: {statement_1}\")\n",
        "print(f\"The 2nd statement is: {statement_2}\")\n",
        "print(f\"The 3rd statement is: {statement_3}\")"
      ],
      "metadata": {
        "colab": {
          "base_uri": "https://localhost:8080/"
        },
        "id": "n9JjyoJS0lXn",
        "outputId": "8319bf1c-eb3c-4839-f2f8-b558b4c92cc6"
      },
      "execution_count": null,
      "outputs": [
        {
          "output_type": "stream",
          "name": "stdout",
          "text": [
            "The 1st statement is: Hi I'm Sunny\n",
            "The 2nd statement is: My address is 22\\3\n",
            "The 3rd statement is: I earn 20$ daily.\n"
          ]
        }
      ]
    },
    {
      "cell_type": "markdown",
      "source": [
        "# **6. Take user input (name, address, date of birth etc) to fill a form for your college and print their email IDs**"
      ],
      "metadata": {
        "id": "B8BGpUL4qU3U"
      }
    },
    {
      "cell_type": "code",
      "source": [
        "# taking the user inputs\n",
        "first_name = input(\"Enter your first name: \")\n",
        "last_name = input(\"Enter your last name: \")\n",
        "\n",
        "house_no = input(\"Enter your house_no: \")\n",
        "vill_or_city = input(\"Enter your Village/City name: \")\n",
        "po = input(\"Enter your Post Office: \")\n",
        "ps = input(\"Enter your Police Station: \")\n",
        "pin = input(\"Enter your Postal Code: \")\n",
        "dist = input(\"Enter your District: \")\n",
        "state = input(\"Enter your State: \")\n",
        "\n",
        "dob = input(\"Enter your date of birth: \")\n",
        "\n",
        "# printing the outputs\n",
        "print(f\"\\nYour full name: {first_name} {last_name}\")\n",
        "\n",
        "print()\n",
        "\n",
        "print(f\"\"\"Your full address:- \n",
        "house_no: {house_no},\n",
        "Village/City name: {vill_or_city},\n",
        "Post Office: {po},\n",
        "Police Station: {ps},\n",
        "Postal Code: {pin},\n",
        "District: {dist},\n",
        "State: {state}\"\"\")\n",
        "\n",
        "print()\n",
        "\n",
        "print(f\"Your D.O.B. is: {dob}\")\n",
        "\n",
        "print()\n",
        "\n",
        "\n",
        "# creating the email id\n",
        "print(f\"The user email id is: {(last_name.lower())}.{(first_name.lower())}@gmail.com\")"
      ],
      "metadata": {
        "colab": {
          "base_uri": "https://localhost:8080/"
        },
        "id": "AAqIEtAv2Xmt",
        "outputId": "550d6057-aa07-4c28-e28f-a329c0507d11"
      },
      "execution_count": null,
      "outputs": [
        {
          "output_type": "stream",
          "name": "stdout",
          "text": [
            "Enter your first name: Padma\n",
            "Enter your last name: Dey\n",
            "Enter your house_no: N0018\n",
            "Enter your Village/City name: West Jagadanandapur\n",
            "Enter your Post Office: Bethuadahari\n",
            "Enter your Police Station: Nakashipara\n",
            "Enter your Postal Code: 741126\n",
            "Enter your District: Nadia\n",
            "Enter your State: West Bengal\n",
            "Enter your date of birth: 05/09/1998\n",
            "\n",
            "Your full name: Padma Dey\n",
            "\n",
            "Your full address:- \n",
            "house_no: N0018,\n",
            "Village/City name: West Jagadanandapur,\n",
            "Post Office: Bethuadahari,\n",
            "Police Station: Nakashipara,\n",
            "Postal Code: 741126,\n",
            "District: Nadia,\n",
            "State: West Bengal\n",
            "\n",
            "Your D.O.B. is: 05/09/1998\n",
            "\n",
            "The user email id is: dey.padma@gmail.com\n"
          ]
        }
      ]
    },
    {
      "cell_type": "markdown",
      "source": [
        "7. Convert the following -\n",
        " * \"22.4\" into integer\n",
        " * \"22\" into complex no."
      ],
      "metadata": {
        "id": "9YBUnfLeqbfK"
      }
    },
    {
      "cell_type": "code",
      "execution_count": null,
      "metadata": {
        "colab": {
          "base_uri": "https://localhost:8080/"
        },
        "id": "7Hqv1aldpLMP",
        "outputId": "5f6424b9-30a6-45d6-d1a1-bde7c27d3da4"
      },
      "outputs": [
        {
          "output_type": "stream",
          "name": "stdout",
          "text": [
            "The data type of given number is: <class 'float'>, value of x: 22.4\n",
            "After converting '22.4' into integer: 22\n",
            "\n",
            "The data type of given number is: <class 'int'>, value of x: 22\n",
            "After converting '22' into float: 22.0\n"
          ]
        }
      ],
      "source": [
        "# float to integer\n",
        "x = 22.4\n",
        "print(f\"The data type of given number is: {type(x)}, value of x: {x}\")\n",
        "x = int(x)\n",
        "print(f\"After converting '22.4' into integer: {x}\")\n",
        "\n",
        "print()\n",
        "\n",
        "# integer to float\n",
        "y = 22\n",
        "print(f\"The data type of given number is: {type(y)}, value of x: {y}\")\n",
        "y = float(y)\n",
        "print(f\"After converting '22' into float: {y}\")"
      ]
    }
  ]
}